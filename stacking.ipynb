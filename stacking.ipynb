{
 "nbformat": 4,
 "nbformat_minor": 2,
 "metadata": {
  "language_info": {
   "name": "python",
   "codemirror_mode": {
    "name": "ipython",
    "version": 3
   },
   "version": "3.7.4-final"
  },
  "orig_nbformat": 2,
  "file_extension": ".py",
  "mimetype": "text/x-python",
  "name": "python",
  "npconvert_exporter": "python",
  "pygments_lexer": "ipython3",
  "version": 3,
  "kernelspec": {
   "name": "deeplearning",
   "display_name": "deeplearning"
  }
 },
 "cells": [
  {
   "cell_type": "code",
   "execution_count": 13,
   "metadata": {},
   "outputs": [],
   "source": [
    "import pandas as pd\n",
    "\n",
    "all_data = pd.read_csv(\"data/task2_data.csv\")\n",
    "train = all_data[all_data[\"source\"] == \"train\"]"
   ]
  },
  {
   "cell_type": "code",
   "execution_count": 36,
   "metadata": {},
   "outputs": [],
   "source": [
    "from sklearn.preprocessing import LabelEncoder\n",
    "from sklearn.feature_extraction.text import TfidfVectorizer\n",
    "from sklearn.model_selection import train_test_split\n",
    "\n",
    "tfidf = TfidfVectorizer(strip_accents=\"ascii\",\n",
    "                        analyzer=\"word\",\n",
    "                        stop_words=\"english\",\n",
    "                        ngram_range=(1,3),\n",
    "                        min_df=2)\n",
    "tfidf = tfidf.fit(all_data[\"context\"])\n",
    "X_train = tfidf.transform(train[\"text\"])\n",
    "\n",
    "le = LabelEncoder()\n",
    "le = le.fit(train[\"label\"])\n",
    "y_train = le.transform(train[\"label\"])\n",
    "\n",
    "random_seed = 1956\n",
    "\n",
    "X_train, X_val, y_train, y_val = train_test_split(X_train, y_train, test_size=.15, random_state=random_seed)"
   ]
  },
  {
   "cell_type": "code",
   "execution_count": 42,
   "metadata": {},
   "outputs": [],
   "source": [
    "from sklearn import model_selection\n",
    "from sklearn.svm import LinearSVC\n",
    "from sklearn.ensemble import AdaBoostClassifier\n",
    "from sklearn.ensemble import RandomForestClassifier\n",
    "from sklearn.linear_model import LogisticRegression\n",
    "from sklearn.model_selection import GridSearchCV\n",
    "from mlxtend.classifier import StackingCVClassifier\n",
    "\n",
    "import numpy as np\n",
    "import warnings\n",
    "\n",
    "warnings.simplefilter('ignore')\n",
    "\n",
    "clf1 = LinearSVC()\n",
    "clf2 = AdaBoostClassifier()\n",
    "clf3 = RandomForestClassifier(n_jobs=-1)\n",
    "lr = LogisticRegression()\n",
    "\n",
    "sclf = StackingCVClassifier(classifiers = [clf1, clf2, clf3],\n",
    "                            meta_classifier=lr,\n",
    "                            random_state=random_seed)\n",
    "params = {'linearsvc__C': [1, 10, 100, 1000],\n",
    "          'adaboostclassifier__n_estimators': [50, 100, 150],\n",
    "          'randomforestclassifier__n_estimators': [100, 200, 500],\n",
    "          'randomforestclassifier__max_depth': [2,4,8,10]}\n",
    "\n",
    "grid = GridSearchCV(estimator=sclf, \n",
    "                    param_grid=params, \n",
    "                    cv=3,\n",
    "                    refit=True)\n",
    "grid.fit(X_train, y_train)\n",
    "\n",
    "print('Best parameters: %s' % grid.best_params_)\n",
    "print('Accuracy: %.2f' % grid.best_score_)"
   ]
  },
  {
   "cell_type": "code",
   "execution_count": 38,
   "metadata": {},
   "outputs": [
    {
     "data": {
      "text/plain": "14"
     },
     "execution_count": 38,
     "metadata": {},
     "output_type": "execute_result"
    }
   ],
   "source": [
    "len(le.classes_)"
   ]
  },
  {
   "cell_type": "code",
   "execution_count": null,
   "metadata": {},
   "outputs": [],
   "source": []
  }
 ]
}